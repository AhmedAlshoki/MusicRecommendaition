{
  "cells": [
    {
      "cell_type": "markdown",
      "metadata": {
        "id": "view-in-github",
        "colab_type": "text"
      },
      "source": [
        "<a href=\"https://colab.research.google.com/github/AhmedAlshoki/MusicRecommendaition/blob/main/MusicRecommendation.ipynb\" target=\"_parent\"><img src=\"https://colab.research.google.com/assets/colab-badge.svg\" alt=\"Open In Colab\"/></a>"
      ]
    },
    {
      "cell_type": "code",
      "execution_count": null,
      "metadata": {
        "id": "1H-QZ6qdoFmQ"
      },
      "outputs": [],
      "source": [
        "# Jovian Commit Essentials\n",
        "# Please retain and execute this cell without modifying the contents for `jovian.commit` to work\n",
        "!pip install jovian --upgrade -q\n",
        "import jovian\n",
        "jovian.set_project('musicrecommendationjovian')\n",
        "jovian.set_colab_id('12xYz5CaNsd2fX0FAda48kvvdLod2mF0L')"
      ]
    },
    {
      "cell_type": "code",
      "execution_count": null,
      "metadata": {
        "id": "18LnhRYWA0Ei"
      },
      "outputs": [],
      "source": [
        "import pandas as pd\n",
        "import matplotlib.pyplot as plt\n",
        "import numpy as np\n",
        "from sklearn.model_selection import train_test_split\n",
        "import io\n",
        "from google.colab import files\n",
        "import gc\n",
        "from tqdm import tqdm\n",
        "from sklearn.preprocessing import StandardScaler\n",
        "from datetime import datetime"
      ]
    },
    {
      "cell_type": "markdown",
      "metadata": {
        "id": "fqnnpGcCBTUw"
      },
      "source": [
        "**Load The Data**"
      ]
    },
    {
      "cell_type": "code",
      "execution_count": null,
      "metadata": {
        "colab": {
          "base_uri": "https://localhost:8080/"
        },
        "id": "mF6KsHahJFcy",
        "outputId": "8f94302b-fb18-4a5a-e3eb-b2f2771a7c8a"
      },
      "outputs": [
        {
          "output_type": "stream",
          "name": "stdout",
          "text": [
            "Drive already mounted at /content/drive; to attempt to forcibly remount, call drive.mount(\"/content/drive\", force_remount=True).\n"
          ]
        }
      ],
      "source": [
        "from google.colab import drive\n",
        "drive.mount('/content/drive')"
      ]
    },
    {
      "cell_type": "code",
      "execution_count": null,
      "metadata": {
        "id": "Ht0i7kpuyb-f"
      },
      "outputs": [],
      "source": [
        "train_set = pd.read_csv('/content/drive/MyDrive/MusicRecommendation/train.csv')"
      ]
    },
    {
      "cell_type": "code",
      "execution_count": null,
      "metadata": {
        "id": "ub-GwSvuy2S_"
      },
      "outputs": [],
      "source": [
        "test_set = pd.read_csv('/content/drive/MyDrive/MusicRecommendation/test.csv')"
      ]
    },
    {
      "cell_type": "code",
      "execution_count": null,
      "metadata": {
        "id": "Fx05stgiP-sN"
      },
      "outputs": [],
      "source": [
        "songs_data =pd.read_csv('/content/drive/MyDrive/MusicRecommendation/songs.csv')"
      ]
    },
    {
      "cell_type": "code",
      "execution_count": null,
      "metadata": {
        "id": "tHtICEEDNkz-"
      },
      "outputs": [],
      "source": [
        "members_data = pd.read_csv('/content/drive/MyDrive/MusicRecommendation/members.csv')"
      ]
    },
    {
      "cell_type": "code",
      "execution_count": null,
      "metadata": {
        "id": "xdMGVwETUSRp"
      },
      "outputs": [],
      "source": [
        "#uploaded = files.upload()\n",
        "#members_data = pd.read_csv(io.BytesIO(uploaded['members.csv']),encoding='ISO-8859-1')"
      ]
    },
    {
      "cell_type": "code",
      "execution_count": null,
      "metadata": {
        "id": "eX2zkkX7h3F6"
      },
      "outputs": [],
      "source": [
        "#uploaded = files.upload()\n",
        "#songs_data = pd.read_csv(io.BytesIO(uploaded['songs.csv']),encoding='ISO-8859-1')"
      ]
    },
    {
      "cell_type": "markdown",
      "metadata": {
        "id": "FSkpRQdYBcBF"
      },
      "source": [
        "Preparing members data before merging with train and test sets "
      ]
    },
    {
      "cell_type": "code",
      "execution_count": null,
      "metadata": {
        "id": "vApx2MDPlaxD"
      },
      "outputs": [],
      "source": [
        "members_data['bd'] =members_data['bd'].astype(int) +42 #shift all ages by 42 (the minimum negative number in members.csv)"
      ]
    },
    {
      "cell_type": "code",
      "execution_count": null,
      "metadata": {
        "id": "hHht6b7ZrJgQ"
      },
      "outputs": [],
      "source": [
        "data_mean, data_std = np.mean(members_data['bd']), np.std(members_data['bd'])\n",
        "# identify outliers\n",
        "cut_off = data_std * 3\n",
        "lower, upper = data_mean - cut_off, data_mean + cut_off"
      ]
    },
    {
      "cell_type": "code",
      "execution_count": null,
      "metadata": {
        "colab": {
          "base_uri": "https://localhost:8080/"
        },
        "id": "xqh-Y-YXxuVB",
        "outputId": "1ed1418a-8c21-4037-f032-42705b1d9b8d"
      },
      "outputs": [
        {
          "name": "stderr",
          "output_type": "stream",
          "text": [
            "/usr/local/lib/python3.7/dist-packages/ipykernel_launcher.py:11: SettingWithCopyWarning: \n",
            "A value is trying to be set on a copy of a slice from a DataFrame\n",
            "\n",
            "See the caveats in the documentation: https://pandas.pydata.org/pandas-docs/stable/user_guide/indexing.html#returning-a-view-versus-a-copy\n",
            "  # This is added back by InteractiveShellApp.init_path()\n"
          ]
        }
      ],
      "source": [
        "def deal_with_bd_outliers():\n",
        "   threshold=3\n",
        "   count = 0\n",
        "   mean_1 = np.mean(members_data['bd'])\n",
        "   std_1 =np.std(members_data['bd'])  \n",
        "   members_data.drop(['gender'],axis=1, inplace=True)\n",
        "   for y in members_data['bd']:       \n",
        "        z_score= abs(y - mean_1)/std_1 \n",
        "        if z_score > threshold:\n",
        "          y_ = abs(int(mean_1 + (np.sign(z_score)*3*std_1)))  \n",
        "          members_data['bd'][count] = abs(int(mean_1 + (np.sign(z_score)*3*std_1))) \n",
        "          #print(y,\" \",y_,\" \",count)\n",
        "        count +=1   \n",
        "deal_with_bd_outliers()        "
      ]
    },
    {
      "cell_type": "code",
      "execution_count": null,
      "metadata": {
        "id": "FfbQxydlnQ17"
      },
      "outputs": [],
      "source": [
        "members_data.describe()"
      ]
    },
    {
      "cell_type": "markdown",
      "metadata": {
        "id": "HEBb0A1WCLxf"
      },
      "source": [
        "Preparing songs data before merging with train and test sets"
      ]
    },
    {
      "cell_type": "code",
      "execution_count": null,
      "metadata": {
        "id": "FTmyeHZo4yOn"
      },
      "outputs": [],
      "source": [
        "def replace_drop_encode_songs(songs_data):\n",
        "  #fill Nan values in genre_ids and language ; artist_name has no Nan value\n",
        "  songs_data['genre_ids']=songs_data['genre_ids'].fillna('0')\n",
        "  songs_data['language']=songs_data['language'].fillna(0)\n",
        "  #drop composer has  45% Nan values and lyricist has over 80% Nan values\n",
        "  songs_data.drop(['composer','lyricist'],axis=1, inplace=True)\n",
        "  codec , unique = pd.factorize(songs_data['artist_name']) \n",
        "  songs_data['artist_name'] = pd.Series(codec)\n",
        "  return songs_data\n",
        "songs_data = replace_drop_encode_songs(songs_data)"
      ]
    },
    {
      "cell_type": "markdown",
      "metadata": {
        "id": "VTS9p3jZ_ETN"
      },
      "source": [
        "Saving genres ids' columns values to avoid any missing values on train and test sets"
      ]
    },
    {
      "cell_type": "code",
      "execution_count": null,
      "metadata": {
        "colab": {
          "base_uri": "https://localhost:8080/"
        },
        "id": "FIo9UI6058xm",
        "outputId": "1e85e064-76d9-4f0d-b86c-98e7b5999020"
      },
      "outputs": [
        {
          "data": {
            "text/plain": [
              "17"
            ]
          },
          "execution_count": 13,
          "metadata": {},
          "output_type": "execute_result"
        }
      ],
      "source": [
        "df_dum = songs_data['genre_ids'].str.get_dummies()\n",
        "df_dum\n",
        "columns = df_dum.columns.values\n",
        "columns = list(columns)\n",
        "del df_dum\n",
        "gc.collect()"
      ]
    },
    {
      "cell_type": "markdown",
      "metadata": {
        "id": "MlqkOx9UCdo-"
      },
      "source": [
        "**Merging memebers and songs data within train and test data frames then concatenate train and test in single data frame**"
      ]
    },
    {
      "cell_type": "code",
      "execution_count": null,
      "metadata": {
        "id": "hn-JZyH-QwZk"
      },
      "outputs": [],
      "source": [
        "train_set = pd.merge(train_set, songs_data, on='song_id', how='outer')\n",
        "train_set = pd.merge(train_set, members_data, on='msno', how='inner')\n",
        "test_set = pd.merge(test_set, songs_data, on='song_id', how='outer')\n",
        "test_set = pd.merge(test_set, members_data, on='msno', how='inner')\n",
        "del songs_data\n",
        "del members_data"
      ]
    },
    {
      "cell_type": "code",
      "execution_count": null,
      "metadata": {
        "id": "W3Dbhy18fOWD"
      },
      "outputs": [],
      "source": [
        "target = train_set.pop('target')\n",
        "target_length = len(target)"
      ]
    },
    {
      "cell_type": "code",
      "execution_count": null,
      "metadata": {
        "id": "JIjWwVuA3mz9"
      },
      "outputs": [],
      "source": [
        "train_set = pd.concat([train_set,test_set])\n",
        "del test_set"
      ]
    },
    {
      "cell_type": "markdown",
      "metadata": {
        "id": "Nmg-Fz0eC0zi"
      },
      "source": [
        "Factoise the categoriecal features on the concatenated data frame "
      ]
    },
    {
      "cell_type": "code",
      "execution_count": null,
      "metadata": {
        "id": "nHcxvLaKmWSO"
      },
      "outputs": [],
      "source": [
        "def encode_single_categorical_data():\n",
        "  global train_set\n",
        "  codec , unique = pd.factorize(train_set['source_system_tab'],na_sentinel=0)\n",
        "  train_set['source_system_tab']= codec\n",
        "  codec , unique = pd.factorize(train_set['source_screen_name'],na_sentinel=0)\n",
        "  train_set['source_screen_name']= codec\n",
        "  codec , unique = pd.factorize(train_set['source_type'],na_sentinel=0)\n",
        "  train_set['source_type']= codec\n",
        "encode_single_categorical_data()"
      ]
    },
    {
      "cell_type": "code",
      "execution_count": null,
      "metadata": {
        "id": "2N5nCktO0_Wc"
      },
      "outputs": [],
      "source": [
        "def split_and_join(the_date):\n",
        "    n = [4,2,2]\n",
        "    return'/'.join([the_date[sum(n[:i]):sum(n[:i+1])] for i in range(len(n))]) \n",
        "def convert_to_date(date_time_str):\n",
        "    date_time_obj = datetime.strptime(date_time_str, '%Y/%m/%d') \n",
        "    return date_time_obj   "
      ]
    },
    {
      "cell_type": "code",
      "execution_count": null,
      "metadata": {
        "id": "snBLfngPtlzI"
      },
      "outputs": [],
      "source": [
        "def deal_with_dates():\n",
        "  global train_set\n",
        "  train_set =train_set.astype({'registration_init_time':str\n",
        "                      ,'expiration_date':str })\n",
        "  train_set['registration_init_time'] =train_set['registration_init_time'].apply(split_and_join)\n",
        "  train_set['expiration_date'] =train_set['expiration_date'].apply(split_and_join)\n",
        "  train_set['registration_init_time'] =train_set['registration_init_time'].apply(convert_to_date)\n",
        "  train_set['expiration_date'] =train_set['expiration_date'].apply(convert_to_date)\n",
        "deal_with_dates()  "
      ]
    },
    {
      "cell_type": "markdown",
      "metadata": {
        "id": "9r0cSNsgaSAI"
      },
      "source": [
        "Normlize the data"
      ]
    },
    {
      "cell_type": "code",
      "execution_count": null,
      "metadata": {
        "id": "QD4W8v3JT_qv"
      },
      "outputs": [],
      "source": [
        "StandardScaler_ = StandardScaler(with_mean=False)\n",
        "train_set_ = StandardScaler_.fit_transform(X=train_set[train_set.columns.difference(['msno', 'song_id','id','genre_ids','registration_init_time','expiration_date'])])  \n",
        "train_set[train_set.columns.difference(['msno', 'song_id','id','genre_ids','registration_init_time','expiration_date'])] = train_set_"
      ]
    },
    {
      "cell_type": "markdown",
      "metadata": {
        "id": "rvoau-LGC-w-"
      },
      "source": [
        "**Then seprate them right after dealing with categorical data to avoid RAM cost in gener_ids feature**"
      ]
    },
    {
      "cell_type": "code",
      "execution_count": null,
      "metadata": {
        "id": "hofXkXJd5Hrn"
      },
      "outputs": [],
      "source": [
        "test_set = train_set[:][target_length:]\n",
        "train_set = train_set[:][:target_length]\n",
        "train_set.insert(train_set.shape[1], \"target\", target)"
      ]
    },
    {
      "cell_type": "markdown",
      "metadata": {
        "id": "6f08O2rUDP9O"
      },
      "source": [
        "**Genres_ids within train_set**"
      ]
    },
    {
      "cell_type": "code",
      "execution_count": null,
      "metadata": {
        "id": "l5CfcuFn0B4w"
      },
      "outputs": [],
      "source": [
        "def encode_feature(data):\n",
        "  data_dummies=data['genre_ids'].str.get_dummies(sep='|')\n",
        "  data.drop(['genre_ids'],axis=1, inplace=True)\n",
        "  data['registration_init_time_Year'] = pd.DatetimeIndex(data['registration_init_time']).year\n",
        "  data['registration_init_time_Month'] = pd.DatetimeIndex(data['registration_init_time']).month\n",
        "  data['registration_init_time_Day'] = pd.DatetimeIndex(data['registration_init_time']).day\n",
        "  data.drop(['registration_init_time'],axis=1,inplace=True)\n",
        "  data['expiration_date_Year'] = pd.DatetimeIndex(data['expiration_date']).year\n",
        "  data['expiration_date_Month'] = pd.DatetimeIndex(data['expiration_date']).month\n",
        "  data['expiration_date_Day'] = pd.DatetimeIndex(data['expiration_date']).day\n",
        "  data.drop(['expiration_date'],axis=1,inplace=True)\n",
        "  data = pd.concat([data,data_dummies],axis=1)\n",
        "  del data_dummies\n",
        "  gc.collect()\n",
        "  return data\n",
        "train_set =encode_feature(train_set)"
      ]
    },
    {
      "cell_type": "markdown",
      "metadata": {
        "id": "QpYc0zZ-Dpef"
      },
      "source": [
        "Next four cills to add the missing genres into the data frame"
      ]
    },
    {
      "cell_type": "code",
      "execution_count": null,
      "metadata": {
        "id": "rMvIbaOkumMI"
      },
      "outputs": [],
      "source": [
        "train_cols = train_set.columns.values\n",
        "train_cols = list(train_cols)"
      ]
    },
    {
      "cell_type": "code",
      "execution_count": null,
      "metadata": {
        "id": "bkf2AEq_vlpq"
      },
      "outputs": [],
      "source": [
        "diffrence_col_train = []\n",
        "for column in columns:\n",
        "    if column in train_cols:\n",
        "      continue\n",
        "    else :\n",
        "      diffrence_col_train.append(column)"
      ]
    },
    {
      "cell_type": "code",
      "execution_count": null,
      "metadata": {
        "id": "160uJAOjAJ0N"
      },
      "outputs": [],
      "source": [
        "train_set[diffrence_col_train] = 0"
      ]
    },
    {
      "cell_type": "code",
      "execution_count": null,
      "metadata": {
        "id": "I3xz5SfNAoKu"
      },
      "outputs": [],
      "source": [
        "train_set = train_set.reindex(sorted(train_set.columns), axis=1)"
      ]
    },
    {
      "cell_type": "markdown",
      "metadata": {
        "id": "nM1fHOObD0iX"
      },
      "source": [
        "Save training set to avoid RAM limit usage the delete it"
      ]
    },
    {
      "cell_type": "code",
      "execution_count": null,
      "metadata": {
        "id": "H3KD2-nV5sqN"
      },
      "outputs": [],
      "source": [
        "path = '/content/drive/MyDrive/MusicRecommendation/train_prepeared.csv'\n",
        "with open(path, 'w', encoding = 'ISO-8859-1') as f:\n",
        "  train_set.to_csv(f)"
      ]
    },
    {
      "cell_type": "code",
      "execution_count": null,
      "metadata": {
        "colab": {
          "base_uri": "https://localhost:8080/"
        },
        "id": "m-81bpE-sVbr",
        "outputId": "0f265b2d-ed50-4861-fd33-0072244ad538"
      },
      "outputs": [
        {
          "name": "stdout",
          "output_type": "stream",
          "text": [
            "<class 'pandas.core.frame.DataFrame'>\n",
            "Int64Index: 1048575 entries, 0 to 1048574\n",
            "Columns: 211 entries, 0 to target\n",
            "dtypes: float64(11), int64(198), object(2)\n",
            "memory usage: 1.7+ GB\n"
          ]
        },
        {
          "data": {
            "text/plain": [
              "0"
            ]
          },
          "execution_count": 29,
          "metadata": {},
          "output_type": "execute_result"
        }
      ],
      "source": [
        "train_set.info()\n",
        "del train_set\n",
        "gc.collect()"
      ]
    },
    {
      "cell_type": "code",
      "execution_count": null,
      "metadata": {
        "id": "Bu25noVIs1bY"
      },
      "outputs": [],
      "source": [
        "jovian.commit()"
      ]
    },
    {
      "cell_type": "markdown",
      "metadata": {
        "id": "e0BMVdxBD-qp"
      },
      "source": [
        "Then repeat the same process with test set"
      ]
    },
    {
      "cell_type": "code",
      "execution_count": null,
      "metadata": {
        "id": "nGAaBD4dpg71"
      },
      "outputs": [],
      "source": [
        "test_set =encode_feature(test_set)"
      ]
    },
    {
      "cell_type": "code",
      "execution_count": null,
      "metadata": {
        "colab": {
          "base_uri": "https://localhost:8080/",
          "height": 488
        },
        "id": "oNV1G23xBXVE",
        "outputId": "fea2eaa0-0319-4fe9-daa2-d5412a74d8d5"
      },
      "outputs": [
        {
          "data": {
            "text/html": [
              "\n",
              "  <div id=\"df-a1cb2201-9075-4d05-801a-a34ecd8b1255\">\n",
              "    <div class=\"colab-df-container\">\n",
              "      <div>\n",
              "<style scoped>\n",
              "    .dataframe tbody tr th:only-of-type {\n",
              "        vertical-align: middle;\n",
              "    }\n",
              "\n",
              "    .dataframe tbody tr th {\n",
              "        vertical-align: top;\n",
              "    }\n",
              "\n",
              "    .dataframe thead th {\n",
              "        text-align: right;\n",
              "    }\n",
              "</style>\n",
              "<table border=\"1\" class=\"dataframe\">\n",
              "  <thead>\n",
              "    <tr style=\"text-align: right;\">\n",
              "      <th></th>\n",
              "      <th>msno</th>\n",
              "      <th>song_id</th>\n",
              "      <th>source_system_tab</th>\n",
              "      <th>source_screen_name</th>\n",
              "      <th>source_type</th>\n",
              "      <th>song_length</th>\n",
              "      <th>artist_name</th>\n",
              "      <th>language</th>\n",
              "      <th>city</th>\n",
              "      <th>bd</th>\n",
              "      <th>...</th>\n",
              "      <th>94</th>\n",
              "      <th>940</th>\n",
              "      <th>947</th>\n",
              "      <th>95</th>\n",
              "      <th>958</th>\n",
              "      <th>965</th>\n",
              "      <th>972</th>\n",
              "      <th>979</th>\n",
              "      <th>986</th>\n",
              "      <th>993</th>\n",
              "    </tr>\n",
              "  </thead>\n",
              "  <tbody>\n",
              "    <tr>\n",
              "      <th>0</th>\n",
              "      <td>V8ruy7SGk7tDm3zA51DPpn6qutt+vmKMBKa21dp54uM=</td>\n",
              "      <td>WmHKgKMlp1lQMecNdNvDMkvIycZYHnFwDT72I5sIssc=</td>\n",
              "      <td>3.069138</td>\n",
              "      <td>0.994436</td>\n",
              "      <td>1.902367</td>\n",
              "      <td>3.236459</td>\n",
              "      <td>0.269533</td>\n",
              "      <td>0.139605</td>\n",
              "      <td>0.150457</td>\n",
              "      <td>2.689352</td>\n",
              "      <td>...</td>\n",
              "      <td>0</td>\n",
              "      <td>0</td>\n",
              "      <td>0</td>\n",
              "      <td>0</td>\n",
              "      <td>0</td>\n",
              "      <td>0</td>\n",
              "      <td>0</td>\n",
              "      <td>0</td>\n",
              "      <td>0</td>\n",
              "      <td>0</td>\n",
              "    </tr>\n",
              "    <tr>\n",
              "      <th>1</th>\n",
              "      <td>V8ruy7SGk7tDm3zA51DPpn6qutt+vmKMBKa21dp54uM=</td>\n",
              "      <td>y/rsZ9DC7FwK5F2PK2D5mj+aOBUJAjuu3dZ14NgE0vM=</td>\n",
              "      <td>3.069138</td>\n",
              "      <td>0.994436</td>\n",
              "      <td>1.902367</td>\n",
              "      <td>4.627618</td>\n",
              "      <td>0.000480</td>\n",
              "      <td>0.139605</td>\n",
              "      <td>0.150457</td>\n",
              "      <td>2.689352</td>\n",
              "      <td>...</td>\n",
              "      <td>0</td>\n",
              "      <td>0</td>\n",
              "      <td>0</td>\n",
              "      <td>0</td>\n",
              "      <td>0</td>\n",
              "      <td>0</td>\n",
              "      <td>0</td>\n",
              "      <td>0</td>\n",
              "      <td>0</td>\n",
              "      <td>0</td>\n",
              "    </tr>\n",
              "    <tr>\n",
              "      <th>2</th>\n",
              "      <td>V8ruy7SGk7tDm3zA51DPpn6qutt+vmKMBKa21dp54uM=</td>\n",
              "      <td>A4Xu2KK/i4wlarqf8SOQ61S/XTIDEaNtKSKKHWGca4w=</td>\n",
              "      <td>3.069138</td>\n",
              "      <td>0.994436</td>\n",
              "      <td>1.902367</td>\n",
              "      <td>4.562739</td>\n",
              "      <td>0.109048</td>\n",
              "      <td>0.139605</td>\n",
              "      <td>0.150457</td>\n",
              "      <td>2.689352</td>\n",
              "      <td>...</td>\n",
              "      <td>0</td>\n",
              "      <td>0</td>\n",
              "      <td>0</td>\n",
              "      <td>0</td>\n",
              "      <td>0</td>\n",
              "      <td>0</td>\n",
              "      <td>0</td>\n",
              "      <td>0</td>\n",
              "      <td>0</td>\n",
              "      <td>0</td>\n",
              "    </tr>\n",
              "    <tr>\n",
              "      <th>3</th>\n",
              "      <td>V8ruy7SGk7tDm3zA51DPpn6qutt+vmKMBKa21dp54uM=</td>\n",
              "      <td>YJKHI4Asj1oM5vJftbISis2QYliVSExtWiWnwb7TOgo=</td>\n",
              "      <td>3.069138</td>\n",
              "      <td>0.994436</td>\n",
              "      <td>1.902367</td>\n",
              "      <td>2.977447</td>\n",
              "      <td>0.111791</td>\n",
              "      <td>2.419827</td>\n",
              "      <td>0.150457</td>\n",
              "      <td>2.689352</td>\n",
              "      <td>...</td>\n",
              "      <td>0</td>\n",
              "      <td>0</td>\n",
              "      <td>0</td>\n",
              "      <td>0</td>\n",
              "      <td>0</td>\n",
              "      <td>0</td>\n",
              "      <td>0</td>\n",
              "      <td>0</td>\n",
              "      <td>0</td>\n",
              "      <td>0</td>\n",
              "    </tr>\n",
              "    <tr>\n",
              "      <th>4</th>\n",
              "      <td>V8ruy7SGk7tDm3zA51DPpn6qutt+vmKMBKa21dp54uM=</td>\n",
              "      <td>pcxJbwDNuVwQhMfbiZdKvw/KMlUEeYmoXVbC7v/78SY=</td>\n",
              "      <td>3.069138</td>\n",
              "      <td>0.994436</td>\n",
              "      <td>1.902367</td>\n",
              "      <td>2.512043</td>\n",
              "      <td>0.009396</td>\n",
              "      <td>0.139605</td>\n",
              "      <td>0.150457</td>\n",
              "      <td>2.689352</td>\n",
              "      <td>...</td>\n",
              "      <td>0</td>\n",
              "      <td>0</td>\n",
              "      <td>0</td>\n",
              "      <td>0</td>\n",
              "      <td>0</td>\n",
              "      <td>0</td>\n",
              "      <td>0</td>\n",
              "      <td>0</td>\n",
              "      <td>0</td>\n",
              "      <td>0</td>\n",
              "    </tr>\n",
              "    <tr>\n",
              "      <th>...</th>\n",
              "      <td>...</td>\n",
              "      <td>...</td>\n",
              "      <td>...</td>\n",
              "      <td>...</td>\n",
              "      <td>...</td>\n",
              "      <td>...</td>\n",
              "      <td>...</td>\n",
              "      <td>...</td>\n",
              "      <td>...</td>\n",
              "      <td>...</td>\n",
              "      <td>...</td>\n",
              "      <td>...</td>\n",
              "      <td>...</td>\n",
              "      <td>...</td>\n",
              "      <td>...</td>\n",
              "      <td>...</td>\n",
              "      <td>...</td>\n",
              "      <td>...</td>\n",
              "      <td>...</td>\n",
              "      <td>...</td>\n",
              "      <td>...</td>\n",
              "    </tr>\n",
              "    <tr>\n",
              "      <th>2556785</th>\n",
              "      <td>mOIOWECcda2GQb88A0h5bC/gtDwECJyoQ3CLrY7WMHs=</td>\n",
              "      <td>xNKSLKYvzeBI5IJA7sznSmJISfbdhW15czZhbvYep8w=</td>\n",
              "      <td>3.836423</td>\n",
              "      <td>1.988873</td>\n",
              "      <td>2.663314</td>\n",
              "      <td>2.567031</td>\n",
              "      <td>0.186547</td>\n",
              "      <td>1.442589</td>\n",
              "      <td>0.752283</td>\n",
              "      <td>3.649835</td>\n",
              "      <td>...</td>\n",
              "      <td>0</td>\n",
              "      <td>0</td>\n",
              "      <td>0</td>\n",
              "      <td>0</td>\n",
              "      <td>0</td>\n",
              "      <td>0</td>\n",
              "      <td>0</td>\n",
              "      <td>0</td>\n",
              "      <td>0</td>\n",
              "      <td>0</td>\n",
              "    </tr>\n",
              "    <tr>\n",
              "      <th>2556786</th>\n",
              "      <td>mOIOWECcda2GQb88A0h5bC/gtDwECJyoQ3CLrY7WMHs=</td>\n",
              "      <td>f5AEMfXLTvCX2epm+qDCw+06/YZB+V5VmCML9VEy+Hw=</td>\n",
              "      <td>3.836423</td>\n",
              "      <td>1.988873</td>\n",
              "      <td>2.663314</td>\n",
              "      <td>3.350290</td>\n",
              "      <td>0.186547</td>\n",
              "      <td>1.442589</td>\n",
              "      <td>0.752283</td>\n",
              "      <td>3.649835</td>\n",
              "      <td>...</td>\n",
              "      <td>0</td>\n",
              "      <td>0</td>\n",
              "      <td>0</td>\n",
              "      <td>0</td>\n",
              "      <td>0</td>\n",
              "      <td>0</td>\n",
              "      <td>0</td>\n",
              "      <td>0</td>\n",
              "      <td>0</td>\n",
              "      <td>0</td>\n",
              "    </tr>\n",
              "    <tr>\n",
              "      <th>2556787</th>\n",
              "      <td>mOIOWECcda2GQb88A0h5bC/gtDwECJyoQ3CLrY7WMHs=</td>\n",
              "      <td>e4yggmZqqhyEGvj7pTgKhOi0HHsejELz5vZF447LMcs=</td>\n",
              "      <td>3.836423</td>\n",
              "      <td>1.988873</td>\n",
              "      <td>2.663314</td>\n",
              "      <td>2.663606</td>\n",
              "      <td>0.186547</td>\n",
              "      <td>1.442589</td>\n",
              "      <td>0.752283</td>\n",
              "      <td>3.649835</td>\n",
              "      <td>...</td>\n",
              "      <td>0</td>\n",
              "      <td>0</td>\n",
              "      <td>0</td>\n",
              "      <td>0</td>\n",
              "      <td>0</td>\n",
              "      <td>0</td>\n",
              "      <td>0</td>\n",
              "      <td>0</td>\n",
              "      <td>0</td>\n",
              "      <td>0</td>\n",
              "    </tr>\n",
              "    <tr>\n",
              "      <th>2556788</th>\n",
              "      <td>mOIOWECcda2GQb88A0h5bC/gtDwECJyoQ3CLrY7WMHs=</td>\n",
              "      <td>l/y9Ub50mRYmRkIgo0QsP71uHTOBDLIk/0QYJWhei3w=</td>\n",
              "      <td>3.836423</td>\n",
              "      <td>1.988873</td>\n",
              "      <td>2.663314</td>\n",
              "      <td>3.222885</td>\n",
              "      <td>0.186547</td>\n",
              "      <td>1.442589</td>\n",
              "      <td>0.752283</td>\n",
              "      <td>3.649835</td>\n",
              "      <td>...</td>\n",
              "      <td>0</td>\n",
              "      <td>0</td>\n",
              "      <td>0</td>\n",
              "      <td>0</td>\n",
              "      <td>0</td>\n",
              "      <td>0</td>\n",
              "      <td>0</td>\n",
              "      <td>0</td>\n",
              "      <td>0</td>\n",
              "      <td>0</td>\n",
              "    </tr>\n",
              "    <tr>\n",
              "      <th>2556789</th>\n",
              "      <td>mOIOWECcda2GQb88A0h5bC/gtDwECJyoQ3CLrY7WMHs=</td>\n",
              "      <td>VbqFPqt15WlfDUW8D/SiRyI2RPmU3pBOgnpfV85ya1A=</td>\n",
              "      <td>3.836423</td>\n",
              "      <td>1.988873</td>\n",
              "      <td>2.663314</td>\n",
              "      <td>2.521443</td>\n",
              "      <td>0.186547</td>\n",
              "      <td>1.442589</td>\n",
              "      <td>0.752283</td>\n",
              "      <td>3.649835</td>\n",
              "      <td>...</td>\n",
              "      <td>0</td>\n",
              "      <td>0</td>\n",
              "      <td>0</td>\n",
              "      <td>0</td>\n",
              "      <td>0</td>\n",
              "      <td>0</td>\n",
              "      <td>0</td>\n",
              "      <td>0</td>\n",
              "      <td>0</td>\n",
              "      <td>0</td>\n",
              "    </tr>\n",
              "  </tbody>\n",
              "</table>\n",
              "<p>2556790 rows × 181 columns</p>\n",
              "</div>\n",
              "      <button class=\"colab-df-convert\" onclick=\"convertToInteractive('df-a1cb2201-9075-4d05-801a-a34ecd8b1255')\"\n",
              "              title=\"Convert this dataframe to an interactive table.\"\n",
              "              style=\"display:none;\">\n",
              "        \n",
              "  <svg xmlns=\"http://www.w3.org/2000/svg\" height=\"24px\"viewBox=\"0 0 24 24\"\n",
              "       width=\"24px\">\n",
              "    <path d=\"M0 0h24v24H0V0z\" fill=\"none\"/>\n",
              "    <path d=\"M18.56 5.44l.94 2.06.94-2.06 2.06-.94-2.06-.94-.94-2.06-.94 2.06-2.06.94zm-11 1L8.5 8.5l.94-2.06 2.06-.94-2.06-.94L8.5 2.5l-.94 2.06-2.06.94zm10 10l.94 2.06.94-2.06 2.06-.94-2.06-.94-.94-2.06-.94 2.06-2.06.94z\"/><path d=\"M17.41 7.96l-1.37-1.37c-.4-.4-.92-.59-1.43-.59-.52 0-1.04.2-1.43.59L10.3 9.45l-7.72 7.72c-.78.78-.78 2.05 0 2.83L4 21.41c.39.39.9.59 1.41.59.51 0 1.02-.2 1.41-.59l7.78-7.78 2.81-2.81c.8-.78.8-2.07 0-2.86zM5.41 20L4 18.59l7.72-7.72 1.47 1.35L5.41 20z\"/>\n",
              "  </svg>\n",
              "      </button>\n",
              "      \n",
              "  <style>\n",
              "    .colab-df-container {\n",
              "      display:flex;\n",
              "      flex-wrap:wrap;\n",
              "      gap: 12px;\n",
              "    }\n",
              "\n",
              "    .colab-df-convert {\n",
              "      background-color: #E8F0FE;\n",
              "      border: none;\n",
              "      border-radius: 50%;\n",
              "      cursor: pointer;\n",
              "      display: none;\n",
              "      fill: #1967D2;\n",
              "      height: 32px;\n",
              "      padding: 0 0 0 0;\n",
              "      width: 32px;\n",
              "    }\n",
              "\n",
              "    .colab-df-convert:hover {\n",
              "      background-color: #E2EBFA;\n",
              "      box-shadow: 0px 1px 2px rgba(60, 64, 67, 0.3), 0px 1px 3px 1px rgba(60, 64, 67, 0.15);\n",
              "      fill: #174EA6;\n",
              "    }\n",
              "\n",
              "    [theme=dark] .colab-df-convert {\n",
              "      background-color: #3B4455;\n",
              "      fill: #D2E3FC;\n",
              "    }\n",
              "\n",
              "    [theme=dark] .colab-df-convert:hover {\n",
              "      background-color: #434B5C;\n",
              "      box-shadow: 0px 1px 3px 1px rgba(0, 0, 0, 0.15);\n",
              "      filter: drop-shadow(0px 1px 2px rgba(0, 0, 0, 0.3));\n",
              "      fill: #FFFFFF;\n",
              "    }\n",
              "  </style>\n",
              "\n",
              "      <script>\n",
              "        const buttonEl =\n",
              "          document.querySelector('#df-a1cb2201-9075-4d05-801a-a34ecd8b1255 button.colab-df-convert');\n",
              "        buttonEl.style.display =\n",
              "          google.colab.kernel.accessAllowed ? 'block' : 'none';\n",
              "\n",
              "        async function convertToInteractive(key) {\n",
              "          const element = document.querySelector('#df-a1cb2201-9075-4d05-801a-a34ecd8b1255');\n",
              "          const dataTable =\n",
              "            await google.colab.kernel.invokeFunction('convertToInteractive',\n",
              "                                                     [key], {});\n",
              "          if (!dataTable) return;\n",
              "\n",
              "          const docLinkHtml = 'Like what you see? Visit the ' +\n",
              "            '<a target=\"_blank\" href=https://colab.research.google.com/notebooks/data_table.ipynb>data table notebook</a>'\n",
              "            + ' to learn more about interactive tables.';\n",
              "          element.innerHTML = '';\n",
              "          dataTable['output_type'] = 'display_data';\n",
              "          await google.colab.output.renderOutput(dataTable, element);\n",
              "          const docLink = document.createElement('div');\n",
              "          docLink.innerHTML = docLinkHtml;\n",
              "          element.appendChild(docLink);\n",
              "        }\n",
              "      </script>\n",
              "    </div>\n",
              "  </div>\n",
              "  "
            ],
            "text/plain": [
              "                                                 msno  \\\n",
              "0        V8ruy7SGk7tDm3zA51DPpn6qutt+vmKMBKa21dp54uM=   \n",
              "1        V8ruy7SGk7tDm3zA51DPpn6qutt+vmKMBKa21dp54uM=   \n",
              "2        V8ruy7SGk7tDm3zA51DPpn6qutt+vmKMBKa21dp54uM=   \n",
              "3        V8ruy7SGk7tDm3zA51DPpn6qutt+vmKMBKa21dp54uM=   \n",
              "4        V8ruy7SGk7tDm3zA51DPpn6qutt+vmKMBKa21dp54uM=   \n",
              "...                                               ...   \n",
              "2556785  mOIOWECcda2GQb88A0h5bC/gtDwECJyoQ3CLrY7WMHs=   \n",
              "2556786  mOIOWECcda2GQb88A0h5bC/gtDwECJyoQ3CLrY7WMHs=   \n",
              "2556787  mOIOWECcda2GQb88A0h5bC/gtDwECJyoQ3CLrY7WMHs=   \n",
              "2556788  mOIOWECcda2GQb88A0h5bC/gtDwECJyoQ3CLrY7WMHs=   \n",
              "2556789  mOIOWECcda2GQb88A0h5bC/gtDwECJyoQ3CLrY7WMHs=   \n",
              "\n",
              "                                              song_id  source_system_tab  \\\n",
              "0        WmHKgKMlp1lQMecNdNvDMkvIycZYHnFwDT72I5sIssc=           3.069138   \n",
              "1        y/rsZ9DC7FwK5F2PK2D5mj+aOBUJAjuu3dZ14NgE0vM=           3.069138   \n",
              "2        A4Xu2KK/i4wlarqf8SOQ61S/XTIDEaNtKSKKHWGca4w=           3.069138   \n",
              "3        YJKHI4Asj1oM5vJftbISis2QYliVSExtWiWnwb7TOgo=           3.069138   \n",
              "4        pcxJbwDNuVwQhMfbiZdKvw/KMlUEeYmoXVbC7v/78SY=           3.069138   \n",
              "...                                               ...                ...   \n",
              "2556785  xNKSLKYvzeBI5IJA7sznSmJISfbdhW15czZhbvYep8w=           3.836423   \n",
              "2556786  f5AEMfXLTvCX2epm+qDCw+06/YZB+V5VmCML9VEy+Hw=           3.836423   \n",
              "2556787  e4yggmZqqhyEGvj7pTgKhOi0HHsejELz5vZF447LMcs=           3.836423   \n",
              "2556788  l/y9Ub50mRYmRkIgo0QsP71uHTOBDLIk/0QYJWhei3w=           3.836423   \n",
              "2556789  VbqFPqt15WlfDUW8D/SiRyI2RPmU3pBOgnpfV85ya1A=           3.836423   \n",
              "\n",
              "         source_screen_name  source_type  song_length  artist_name  language  \\\n",
              "0                  0.994436     1.902367     3.236459     0.269533  0.139605   \n",
              "1                  0.994436     1.902367     4.627618     0.000480  0.139605   \n",
              "2                  0.994436     1.902367     4.562739     0.109048  0.139605   \n",
              "3                  0.994436     1.902367     2.977447     0.111791  2.419827   \n",
              "4                  0.994436     1.902367     2.512043     0.009396  0.139605   \n",
              "...                     ...          ...          ...          ...       ...   \n",
              "2556785            1.988873     2.663314     2.567031     0.186547  1.442589   \n",
              "2556786            1.988873     2.663314     3.350290     0.186547  1.442589   \n",
              "2556787            1.988873     2.663314     2.663606     0.186547  1.442589   \n",
              "2556788            1.988873     2.663314     3.222885     0.186547  1.442589   \n",
              "2556789            1.988873     2.663314     2.521443     0.186547  1.442589   \n",
              "\n",
              "             city        bd  ...  94  940  947  95  958  965  972  979  986  \\\n",
              "0        0.150457  2.689352  ...   0    0    0   0    0    0    0    0    0   \n",
              "1        0.150457  2.689352  ...   0    0    0   0    0    0    0    0    0   \n",
              "2        0.150457  2.689352  ...   0    0    0   0    0    0    0    0    0   \n",
              "3        0.150457  2.689352  ...   0    0    0   0    0    0    0    0    0   \n",
              "4        0.150457  2.689352  ...   0    0    0   0    0    0    0    0    0   \n",
              "...           ...       ...  ...  ..  ...  ...  ..  ...  ...  ...  ...  ...   \n",
              "2556785  0.752283  3.649835  ...   0    0    0   0    0    0    0    0    0   \n",
              "2556786  0.752283  3.649835  ...   0    0    0   0    0    0    0    0    0   \n",
              "2556787  0.752283  3.649835  ...   0    0    0   0    0    0    0    0    0   \n",
              "2556788  0.752283  3.649835  ...   0    0    0   0    0    0    0    0    0   \n",
              "2556789  0.752283  3.649835  ...   0    0    0   0    0    0    0    0    0   \n",
              "\n",
              "         993  \n",
              "0          0  \n",
              "1          0  \n",
              "2          0  \n",
              "3          0  \n",
              "4          0  \n",
              "...      ...  \n",
              "2556785    0  \n",
              "2556786    0  \n",
              "2556787    0  \n",
              "2556788    0  \n",
              "2556789    0  \n",
              "\n",
              "[2556790 rows x 181 columns]"
            ]
          },
          "execution_count": 32,
          "metadata": {},
          "output_type": "execute_result"
        }
      ],
      "source": [
        "test_set"
      ]
    },
    {
      "cell_type": "code",
      "execution_count": null,
      "metadata": {
        "id": "xB-7BTM0A7fW"
      },
      "outputs": [],
      "source": [
        "test_cols = test_set.columns.values\n",
        "test_cols = list(test_cols)"
      ]
    },
    {
      "cell_type": "code",
      "execution_count": null,
      "metadata": {
        "id": "BQq68qopvslI"
      },
      "outputs": [],
      "source": [
        "diffrence_col_test = []\n",
        "for column in columns:\n",
        "    if  column in test_cols:\n",
        "      continue\n",
        "    else :\n",
        "      diffrence_col_test.append(column)"
      ]
    },
    {
      "cell_type": "code",
      "execution_count": null,
      "metadata": {
        "id": "aiReQJhpBLFw"
      },
      "outputs": [],
      "source": [
        "test_set[diffrence_col_test] = 0"
      ]
    },
    {
      "cell_type": "code",
      "execution_count": null,
      "metadata": {
        "id": "K4hyqYfwuMl_"
      },
      "outputs": [],
      "source": [
        "path = '/content/drive/MyDrive/MusicRecommendation/test_prepeared.csv'\n",
        "with open(path, 'w', encoding = 'ISO-8859-1') as f:\n",
        "   test_set.to_csv(f)"
      ]
    },
    {
      "cell_type": "code",
      "execution_count": null,
      "metadata": {
        "colab": {
          "base_uri": "https://localhost:8080/"
        },
        "id": "N-suUbtRuQ35",
        "outputId": "cd061ef2-96b2-4e04-bf30-77072937ebad"
      },
      "outputs": [
        {
          "name": "stdout",
          "output_type": "stream",
          "text": [
            "<class 'pandas.core.frame.DataFrame'>\n",
            "Int64Index: 2556790 entries, 0 to 2556789\n",
            "Columns: 210 entries, msno to 87\n",
            "dtypes: float64(10), int64(198), object(2)\n",
            "memory usage: 4.0+ GB\n"
          ]
        },
        {
          "data": {
            "text/plain": [
              "0"
            ]
          },
          "execution_count": 37,
          "metadata": {},
          "output_type": "execute_result"
        }
      ],
      "source": [
        "test_set.info()\n",
        "del test_set\n",
        "gc.collect()"
      ]
    },
    {
      "cell_type": "code",
      "execution_count": null,
      "metadata": {
        "colab": {
          "base_uri": "https://localhost:8080/"
        },
        "id": "EutlKjCAISU7",
        "outputId": "1d380d9c-75e0-4c58-d8a9-872f137bd793"
      },
      "outputs": [
        {
          "name": "stdout",
          "output_type": "stream",
          "text": [
            "Drive already mounted at /content/drive; to attempt to forcibly remount, call drive.mount(\"/content/drive\", force_remount=True).\n"
          ]
        }
      ],
      "source": [
        "from google.colab import drive\n",
        "import pandas as pd\n",
        "import gc\n",
        "drive.mount('/content/drive')"
      ]
    },
    {
      "cell_type": "markdown",
      "metadata": {
        "id": "P6TME2Ia_xjf"
      },
      "source": [
        "Spliting The data"
      ]
    },
    {
      "cell_type": "code",
      "execution_count": null,
      "metadata": {
        "id": "BGq28ht30PX9"
      },
      "outputs": [],
      "source": [
        "train_set =pd.read_csv('/content/drive/MyDrive/MusicRecommendation/train_prepeared.csv')"
      ]
    },
    {
      "cell_type": "code",
      "execution_count": null,
      "metadata": {
        "id": "VDHi2y4vrotr"
      },
      "outputs": [],
      "source": [
        "train_set = train_set.astype({'target':int})"
      ]
    },
    {
      "cell_type": "code",
      "execution_count": null,
      "metadata": {
        "id": "IUFQNRdBDDx4"
      },
      "outputs": [],
      "source": [
        "target = train_set.pop('target')"
      ]
    },
    {
      "cell_type": "code",
      "execution_count": null,
      "metadata": {
        "colab": {
          "base_uri": "https://localhost:8080/",
          "height": 394
        },
        "id": "pt2KjK5_W2z2",
        "outputId": "cbf22394-d311-4f93-b2e9-df1a3f03af3f"
      },
      "outputs": [
        {
          "data": {
            "text/html": [
              "\n",
              "  <div id=\"df-38431bcb-da10-494a-a0a9-6798e6914826\">\n",
              "    <div class=\"colab-df-container\">\n",
              "      <div>\n",
              "<style scoped>\n",
              "    .dataframe tbody tr th:only-of-type {\n",
              "        vertical-align: middle;\n",
              "    }\n",
              "\n",
              "    .dataframe tbody tr th {\n",
              "        vertical-align: top;\n",
              "    }\n",
              "\n",
              "    .dataframe thead th {\n",
              "        text-align: right;\n",
              "    }\n",
              "</style>\n",
              "<table border=\"1\" class=\"dataframe\">\n",
              "  <thead>\n",
              "    <tr style=\"text-align: right;\">\n",
              "      <th></th>\n",
              "      <th>Unnamed: 0</th>\n",
              "      <th>0</th>\n",
              "      <th>1000</th>\n",
              "      <th>1007</th>\n",
              "      <th>1011</th>\n",
              "      <th>1019</th>\n",
              "      <th>102</th>\n",
              "      <th>1026</th>\n",
              "      <th>1033</th>\n",
              "      <th>1040</th>\n",
              "      <th>...</th>\n",
              "      <th>id</th>\n",
              "      <th>language</th>\n",
              "      <th>registered_via</th>\n",
              "      <th>registration_init_time_Day</th>\n",
              "      <th>registration_init_time_Month</th>\n",
              "      <th>registration_init_time_Year</th>\n",
              "      <th>song_length</th>\n",
              "      <th>source_screen_name</th>\n",
              "      <th>source_system_tab</th>\n",
              "      <th>source_type</th>\n",
              "    </tr>\n",
              "  </thead>\n",
              "  <tbody>\n",
              "    <tr>\n",
              "      <th>count</th>\n",
              "      <td>1.048575e+06</td>\n",
              "      <td>1.048575e+06</td>\n",
              "      <td>1.048575e+06</td>\n",
              "      <td>1.048575e+06</td>\n",
              "      <td>1.048575e+06</td>\n",
              "      <td>1.048575e+06</td>\n",
              "      <td>1.048575e+06</td>\n",
              "      <td>1.048575e+06</td>\n",
              "      <td>1.048575e+06</td>\n",
              "      <td>1.048575e+06</td>\n",
              "      <td>...</td>\n",
              "      <td>0.0</td>\n",
              "      <td>1.048558e+06</td>\n",
              "      <td>1.048575e+06</td>\n",
              "      <td>1.048575e+06</td>\n",
              "      <td>1.048575e+06</td>\n",
              "      <td>1.048575e+06</td>\n",
              "      <td>1.048558e+06</td>\n",
              "      <td>1.048575e+06</td>\n",
              "      <td>1.048575e+06</td>\n",
              "      <td>1.048575e+06</td>\n",
              "    </tr>\n",
              "    <tr>\n",
              "      <th>mean</th>\n",
              "      <td>5.242870e+05</td>\n",
              "      <td>1.459314e-02</td>\n",
              "      <td>9.536752e-07</td>\n",
              "      <td>2.861026e-06</td>\n",
              "      <td>5.211835e-03</td>\n",
              "      <td>5.722051e-06</td>\n",
              "      <td>6.675727e-06</td>\n",
              "      <td>1.907350e-06</td>\n",
              "      <td>5.722051e-06</td>\n",
              "      <td>1.525880e-05</td>\n",
              "      <td>...</td>\n",
              "      <td>NaN</td>\n",
              "      <td>8.584938e-01</td>\n",
              "      <td>2.972312e+00</td>\n",
              "      <td>1.577901e+01</td>\n",
              "      <td>6.894582e+00</td>\n",
              "      <td>2.012728e+03</td>\n",
              "      <td>3.544420e+00</td>\n",
              "      <td>1.343989e+00</td>\n",
              "      <td>3.008668e+00</td>\n",
              "      <td>1.562624e+00</td>\n",
              "    </tr>\n",
              "    <tr>\n",
              "      <th>std</th>\n",
              "      <td>3.026977e+05</td>\n",
              "      <td>1.199174e-01</td>\n",
              "      <td>9.765630e-04</td>\n",
              "      <td>1.691455e-03</td>\n",
              "      <td>7.200470e-02</td>\n",
              "      <td>2.392075e-03</td>\n",
              "      <td>2.583735e-03</td>\n",
              "      <td>1.381068e-03</td>\n",
              "      <td>2.392075e-03</td>\n",
              "      <td>3.906224e-03</td>\n",
              "      <td>...</td>\n",
              "      <td>NaN</td>\n",
              "      <td>9.832749e-01</td>\n",
              "      <td>1.010459e+00</td>\n",
              "      <td>8.823356e+00</td>\n",
              "      <td>3.630305e+00</td>\n",
              "      <td>2.970485e+00</td>\n",
              "      <td>8.381103e-01</td>\n",
              "      <td>8.761787e-01</td>\n",
              "      <td>7.791798e-01</td>\n",
              "      <td>8.866182e-01</td>\n",
              "    </tr>\n",
              "    <tr>\n",
              "      <th>min</th>\n",
              "      <td>0.000000e+00</td>\n",
              "      <td>0.000000e+00</td>\n",
              "      <td>0.000000e+00</td>\n",
              "      <td>0.000000e+00</td>\n",
              "      <td>0.000000e+00</td>\n",
              "      <td>0.000000e+00</td>\n",
              "      <td>0.000000e+00</td>\n",
              "      <td>0.000000e+00</td>\n",
              "      <td>0.000000e+00</td>\n",
              "      <td>0.000000e+00</td>\n",
              "      <td>...</td>\n",
              "      <td>NaN</td>\n",
              "      <td>-4.653513e-02</td>\n",
              "      <td>1.317857e+00</td>\n",
              "      <td>1.000000e+00</td>\n",
              "      <td>1.000000e+00</td>\n",
              "      <td>2.004000e+03</td>\n",
              "      <td>3.921931e-02</td>\n",
              "      <td>0.000000e+00</td>\n",
              "      <td>0.000000e+00</td>\n",
              "      <td>0.000000e+00</td>\n",
              "    </tr>\n",
              "    <tr>\n",
              "      <th>25%</th>\n",
              "      <td>2.621435e+05</td>\n",
              "      <td>0.000000e+00</td>\n",
              "      <td>0.000000e+00</td>\n",
              "      <td>0.000000e+00</td>\n",
              "      <td>0.000000e+00</td>\n",
              "      <td>0.000000e+00</td>\n",
              "      <td>0.000000e+00</td>\n",
              "      <td>0.000000e+00</td>\n",
              "      <td>0.000000e+00</td>\n",
              "      <td>0.000000e+00</td>\n",
              "      <td>...</td>\n",
              "      <td>NaN</td>\n",
              "      <td>1.396054e-01</td>\n",
              "      <td>1.757142e+00</td>\n",
              "      <td>8.000000e+00</td>\n",
              "      <td>3.000000e+00</td>\n",
              "      <td>2.011000e+03</td>\n",
              "      <td>3.111220e+00</td>\n",
              "      <td>9.944365e-01</td>\n",
              "      <td>3.069138e+00</td>\n",
              "      <td>7.609470e-01</td>\n",
              "    </tr>\n",
              "    <tr>\n",
              "      <th>50%</th>\n",
              "      <td>5.242870e+05</td>\n",
              "      <td>0.000000e+00</td>\n",
              "      <td>0.000000e+00</td>\n",
              "      <td>0.000000e+00</td>\n",
              "      <td>0.000000e+00</td>\n",
              "      <td>0.000000e+00</td>\n",
              "      <td>0.000000e+00</td>\n",
              "      <td>0.000000e+00</td>\n",
              "      <td>0.000000e+00</td>\n",
              "      <td>0.000000e+00</td>\n",
              "      <td>...</td>\n",
              "      <td>NaN</td>\n",
              "      <td>1.396054e-01</td>\n",
              "      <td>3.074999e+00</td>\n",
              "      <td>1.600000e+01</td>\n",
              "      <td>7.000000e+00</td>\n",
              "      <td>2.013000e+03</td>\n",
              "      <td>3.500511e+00</td>\n",
              "      <td>9.944365e-01</td>\n",
              "      <td>3.069138e+00</td>\n",
              "      <td>1.902367e+00</td>\n",
              "    </tr>\n",
              "    <tr>\n",
              "      <th>75%</th>\n",
              "      <td>7.864305e+05</td>\n",
              "      <td>0.000000e+00</td>\n",
              "      <td>0.000000e+00</td>\n",
              "      <td>0.000000e+00</td>\n",
              "      <td>0.000000e+00</td>\n",
              "      <td>0.000000e+00</td>\n",
              "      <td>0.000000e+00</td>\n",
              "      <td>0.000000e+00</td>\n",
              "      <td>0.000000e+00</td>\n",
              "      <td>0.000000e+00</td>\n",
              "      <td>...</td>\n",
              "      <td>NaN</td>\n",
              "      <td>2.419827e+00</td>\n",
              "      <td>3.953571e+00</td>\n",
              "      <td>2.300000e+01</td>\n",
              "      <td>1.000000e+01</td>\n",
              "      <td>2.015000e+03</td>\n",
              "      <td>3.938075e+00</td>\n",
              "      <td>1.325915e+00</td>\n",
              "      <td>3.069138e+00</td>\n",
              "      <td>2.282841e+00</td>\n",
              "    </tr>\n",
              "    <tr>\n",
              "      <th>max</th>\n",
              "      <td>1.048574e+06</td>\n",
              "      <td>1.000000e+00</td>\n",
              "      <td>1.000000e+00</td>\n",
              "      <td>1.000000e+00</td>\n",
              "      <td>1.000000e+00</td>\n",
              "      <td>1.000000e+00</td>\n",
              "      <td>1.000000e+00</td>\n",
              "      <td>1.000000e+00</td>\n",
              "      <td>1.000000e+00</td>\n",
              "      <td>1.000000e+00</td>\n",
              "      <td>...</td>\n",
              "      <td>NaN</td>\n",
              "      <td>2.745573e+00</td>\n",
              "      <td>5.710713e+00</td>\n",
              "      <td>3.100000e+01</td>\n",
              "      <td>1.200000e+01</td>\n",
              "      <td>2.016000e+03</td>\n",
              "      <td>1.064452e+02</td>\n",
              "      <td>6.298098e+00</td>\n",
              "      <td>5.370992e+00</td>\n",
              "      <td>3.804735e+00</td>\n",
              "    </tr>\n",
              "  </tbody>\n",
              "</table>\n",
              "<p>8 rows × 209 columns</p>\n",
              "</div>\n",
              "      <button class=\"colab-df-convert\" onclick=\"convertToInteractive('df-38431bcb-da10-494a-a0a9-6798e6914826')\"\n",
              "              title=\"Convert this dataframe to an interactive table.\"\n",
              "              style=\"display:none;\">\n",
              "        \n",
              "  <svg xmlns=\"http://www.w3.org/2000/svg\" height=\"24px\"viewBox=\"0 0 24 24\"\n",
              "       width=\"24px\">\n",
              "    <path d=\"M0 0h24v24H0V0z\" fill=\"none\"/>\n",
              "    <path d=\"M18.56 5.44l.94 2.06.94-2.06 2.06-.94-2.06-.94-.94-2.06-.94 2.06-2.06.94zm-11 1L8.5 8.5l.94-2.06 2.06-.94-2.06-.94L8.5 2.5l-.94 2.06-2.06.94zm10 10l.94 2.06.94-2.06 2.06-.94-2.06-.94-.94-2.06-.94 2.06-2.06.94z\"/><path d=\"M17.41 7.96l-1.37-1.37c-.4-.4-.92-.59-1.43-.59-.52 0-1.04.2-1.43.59L10.3 9.45l-7.72 7.72c-.78.78-.78 2.05 0 2.83L4 21.41c.39.39.9.59 1.41.59.51 0 1.02-.2 1.41-.59l7.78-7.78 2.81-2.81c.8-.78.8-2.07 0-2.86zM5.41 20L4 18.59l7.72-7.72 1.47 1.35L5.41 20z\"/>\n",
              "  </svg>\n",
              "      </button>\n",
              "      \n",
              "  <style>\n",
              "    .colab-df-container {\n",
              "      display:flex;\n",
              "      flex-wrap:wrap;\n",
              "      gap: 12px;\n",
              "    }\n",
              "\n",
              "    .colab-df-convert {\n",
              "      background-color: #E8F0FE;\n",
              "      border: none;\n",
              "      border-radius: 50%;\n",
              "      cursor: pointer;\n",
              "      display: none;\n",
              "      fill: #1967D2;\n",
              "      height: 32px;\n",
              "      padding: 0 0 0 0;\n",
              "      width: 32px;\n",
              "    }\n",
              "\n",
              "    .colab-df-convert:hover {\n",
              "      background-color: #E2EBFA;\n",
              "      box-shadow: 0px 1px 2px rgba(60, 64, 67, 0.3), 0px 1px 3px 1px rgba(60, 64, 67, 0.15);\n",
              "      fill: #174EA6;\n",
              "    }\n",
              "\n",
              "    [theme=dark] .colab-df-convert {\n",
              "      background-color: #3B4455;\n",
              "      fill: #D2E3FC;\n",
              "    }\n",
              "\n",
              "    [theme=dark] .colab-df-convert:hover {\n",
              "      background-color: #434B5C;\n",
              "      box-shadow: 0px 1px 3px 1px rgba(0, 0, 0, 0.15);\n",
              "      filter: drop-shadow(0px 1px 2px rgba(0, 0, 0, 0.3));\n",
              "      fill: #FFFFFF;\n",
              "    }\n",
              "  </style>\n",
              "\n",
              "      <script>\n",
              "        const buttonEl =\n",
              "          document.querySelector('#df-38431bcb-da10-494a-a0a9-6798e6914826 button.colab-df-convert');\n",
              "        buttonEl.style.display =\n",
              "          google.colab.kernel.accessAllowed ? 'block' : 'none';\n",
              "\n",
              "        async function convertToInteractive(key) {\n",
              "          const element = document.querySelector('#df-38431bcb-da10-494a-a0a9-6798e6914826');\n",
              "          const dataTable =\n",
              "            await google.colab.kernel.invokeFunction('convertToInteractive',\n",
              "                                                     [key], {});\n",
              "          if (!dataTable) return;\n",
              "\n",
              "          const docLinkHtml = 'Like what you see? Visit the ' +\n",
              "            '<a target=\"_blank\" href=https://colab.research.google.com/notebooks/data_table.ipynb>data table notebook</a>'\n",
              "            + ' to learn more about interactive tables.';\n",
              "          element.innerHTML = '';\n",
              "          dataTable['output_type'] = 'display_data';\n",
              "          await google.colab.output.renderOutput(dataTable, element);\n",
              "          const docLink = document.createElement('div');\n",
              "          docLink.innerHTML = docLinkHtml;\n",
              "          element.appendChild(docLink);\n",
              "        }\n",
              "      </script>\n",
              "    </div>\n",
              "  </div>\n",
              "  "
            ],
            "text/plain": [
              "         Unnamed: 0             0          1000          1007          1011  \\\n",
              "count  1.048575e+06  1.048575e+06  1.048575e+06  1.048575e+06  1.048575e+06   \n",
              "mean   5.242870e+05  1.459314e-02  9.536752e-07  2.861026e-06  5.211835e-03   \n",
              "std    3.026977e+05  1.199174e-01  9.765630e-04  1.691455e-03  7.200470e-02   \n",
              "min    0.000000e+00  0.000000e+00  0.000000e+00  0.000000e+00  0.000000e+00   \n",
              "25%    2.621435e+05  0.000000e+00  0.000000e+00  0.000000e+00  0.000000e+00   \n",
              "50%    5.242870e+05  0.000000e+00  0.000000e+00  0.000000e+00  0.000000e+00   \n",
              "75%    7.864305e+05  0.000000e+00  0.000000e+00  0.000000e+00  0.000000e+00   \n",
              "max    1.048574e+06  1.000000e+00  1.000000e+00  1.000000e+00  1.000000e+00   \n",
              "\n",
              "               1019           102          1026          1033          1040  \\\n",
              "count  1.048575e+06  1.048575e+06  1.048575e+06  1.048575e+06  1.048575e+06   \n",
              "mean   5.722051e-06  6.675727e-06  1.907350e-06  5.722051e-06  1.525880e-05   \n",
              "std    2.392075e-03  2.583735e-03  1.381068e-03  2.392075e-03  3.906224e-03   \n",
              "min    0.000000e+00  0.000000e+00  0.000000e+00  0.000000e+00  0.000000e+00   \n",
              "25%    0.000000e+00  0.000000e+00  0.000000e+00  0.000000e+00  0.000000e+00   \n",
              "50%    0.000000e+00  0.000000e+00  0.000000e+00  0.000000e+00  0.000000e+00   \n",
              "75%    0.000000e+00  0.000000e+00  0.000000e+00  0.000000e+00  0.000000e+00   \n",
              "max    1.000000e+00  1.000000e+00  1.000000e+00  1.000000e+00  1.000000e+00   \n",
              "\n",
              "       ...   id      language  registered_via  registration_init_time_Day  \\\n",
              "count  ...  0.0  1.048558e+06    1.048575e+06                1.048575e+06   \n",
              "mean   ...  NaN  8.584938e-01    2.972312e+00                1.577901e+01   \n",
              "std    ...  NaN  9.832749e-01    1.010459e+00                8.823356e+00   \n",
              "min    ...  NaN -4.653513e-02    1.317857e+00                1.000000e+00   \n",
              "25%    ...  NaN  1.396054e-01    1.757142e+00                8.000000e+00   \n",
              "50%    ...  NaN  1.396054e-01    3.074999e+00                1.600000e+01   \n",
              "75%    ...  NaN  2.419827e+00    3.953571e+00                2.300000e+01   \n",
              "max    ...  NaN  2.745573e+00    5.710713e+00                3.100000e+01   \n",
              "\n",
              "       registration_init_time_Month  registration_init_time_Year  \\\n",
              "count                  1.048575e+06                 1.048575e+06   \n",
              "mean                   6.894582e+00                 2.012728e+03   \n",
              "std                    3.630305e+00                 2.970485e+00   \n",
              "min                    1.000000e+00                 2.004000e+03   \n",
              "25%                    3.000000e+00                 2.011000e+03   \n",
              "50%                    7.000000e+00                 2.013000e+03   \n",
              "75%                    1.000000e+01                 2.015000e+03   \n",
              "max                    1.200000e+01                 2.016000e+03   \n",
              "\n",
              "        song_length  source_screen_name  source_system_tab   source_type  \n",
              "count  1.048558e+06        1.048575e+06       1.048575e+06  1.048575e+06  \n",
              "mean   3.544420e+00        1.343989e+00       3.008668e+00  1.562624e+00  \n",
              "std    8.381103e-01        8.761787e-01       7.791798e-01  8.866182e-01  \n",
              "min    3.921931e-02        0.000000e+00       0.000000e+00  0.000000e+00  \n",
              "25%    3.111220e+00        9.944365e-01       3.069138e+00  7.609470e-01  \n",
              "50%    3.500511e+00        9.944365e-01       3.069138e+00  1.902367e+00  \n",
              "75%    3.938075e+00        1.325915e+00       3.069138e+00  2.282841e+00  \n",
              "max    1.064452e+02        6.298098e+00       5.370992e+00  3.804735e+00  \n",
              "\n",
              "[8 rows x 209 columns]"
            ]
          },
          "execution_count": 16,
          "metadata": {},
          "output_type": "execute_result"
        }
      ],
      "source": [
        "train_set.describe()"
      ]
    },
    {
      "cell_type": "code",
      "execution_count": null,
      "metadata": {
        "id": "Bm3wFgMWhEvG"
      },
      "outputs": [],
      "source": [
        "train_set.drop(['msno','song_id','Unnamed: 0','id'],axis=1,inplace=True)"
      ]
    },
    {
      "cell_type": "code",
      "execution_count": null,
      "metadata": {
        "id": "huq5w2Zx0Hpd"
      },
      "outputs": [],
      "source": [
        "train_set['song_length']=train_set['song_length'].fillna(0)\n",
        "train_set['artist_name']=train_set['artist_name'].fillna(0)\n",
        "train_set['language']=train_set['language'].fillna(0)"
      ]
    },
    {
      "cell_type": "code",
      "execution_count": null,
      "metadata": {
        "id": "8zSCITMEd7YF"
      },
      "outputs": [],
      "source": [
        "from sklearn.model_selection import train_test_split"
      ]
    },
    {
      "cell_type": "code",
      "execution_count": null,
      "metadata": {
        "id": "eC5iY35tdzX_"
      },
      "outputs": [],
      "source": [
        "train_inputs, validation_input, train_target, validation_target = train_test_split(train_set, target, test_size=0.20, shuffle=True)"
      ]
    },
    {
      "cell_type": "code",
      "execution_count": null,
      "metadata": {
        "colab": {
          "base_uri": "https://localhost:8080/"
        },
        "id": "wSNlIqqg9SMw",
        "outputId": "1d5a780c-617c-4ec8-b500-34719f495b6f"
      },
      "outputs": [
        {
          "data": {
            "text/plain": [
              "252"
            ]
          },
          "execution_count": 21,
          "metadata": {},
          "output_type": "execute_result"
        }
      ],
      "source": [
        "del train_set\n",
        "gc.collect()"
      ]
    },
    {
      "cell_type": "code",
      "execution_count": null,
      "metadata": {
        "id": "fGhblvPcgHBR"
      },
      "outputs": [],
      "source": [
        "from sklearn.decomposition import PCA\n",
        "pca = PCA(n_components=3)\n",
        "principalComponents = pca.fit_transform(train_inputs)\n",
        "principalDf = pd.DataFrame(data = principalComponents ,columns = ['principal component 1', 'principal component 2','principal component 3'])\n",
        "finalDf = pd.concat([principalDf, train_target], axis = 1)"
      ]
    },
    {
      "cell_type": "code",
      "execution_count": null,
      "metadata": {
        "colab": {
          "base_uri": "https://localhost:8080/",
          "height": 575
        },
        "id": "c9TMEjL9ixoy",
        "outputId": "5db63c35-54e3-4c00-92c9-f70691e46521"
      },
      "outputs": [
        {
          "data": {
            "image/png": "[encoded data removed]",
            "text/plain": [
              "<Figure size 720x720 with 1 Axes>"
            ]
          },
          "metadata": {
            "needs_background": "light"
          },
          "output_type": "display_data"
        }
      ],
      "source": [
        "fig = plt.figure(figsize = (10,10))\n",
        "ax = plt.axes(projection='3d')\n",
        "#ax = fig.add_subplot(1,1,1) \n",
        "ax.set_title('3 component PCA', fontsize = 20)\n",
        "targets = [0, 1]\n",
        "colors = ['r', 'g']\n",
        "for target, color in zip(targets,colors):\n",
        "    indicesToKeep = finalDf['target'] == target\n",
        "    ax.scatter(finalDf.loc[indicesToKeep, 'principal component 1']\n",
        "               , finalDf.loc[indicesToKeep, 'principal component 2']\n",
        "               ,finalDf.loc[indicesToKeep, 'principal component 3']\n",
        "               , c = color\n",
        "               , s = 50)\n",
        "ax.legend(targets)\n",
        "ax.grid()"
      ]
    },
    {
      "cell_type": "code",
      "execution_count": null,
      "metadata": {
        "colab": {
          "base_uri": "https://localhost:8080/"
        },
        "id": "jvMPUlaoEgbv",
        "outputId": "e0def481-56f4-4913-e5ba-3f88bbe50410"
      },
      "outputs": [
        {
          "data": {
            "text/plain": [
              "0    260607\n",
              "1    578253\n",
              "Name: target, dtype: int64"
            ]
          },
          "execution_count": 23,
          "metadata": {},
          "output_type": "execute_result"
        }
      ],
      "source": [
        "train_target.value_counts(sort=False)"
      ]
    },
    {
      "cell_type": "code",
      "execution_count": null,
      "metadata": {
        "id": "FqxX2xhGyV-Q"
      },
      "outputs": [],
      "source": [
        "jovian.commit()"
      ]
    },
    {
      "cell_type": "code",
      "execution_count": null,
      "metadata": {
        "colab": {
          "base_uri": "https://localhost:8080/"
        },
        "id": "oPeoaY7IJJRA",
        "outputId": "070ab8b1-8fd1-4df5-872c-c41f54f97fe7"
      },
      "outputs": [
        {
          "name": "stdout",
          "output_type": "stream",
          "text": [
            "Looking in indexes: https://pypi.org/simple, https://us-python.pkg.dev/colab-wheels/public/simple/\n",
            "Requirement already satisfied: bayesian-optimization in /usr/local/lib/python3.7/dist-packages (1.2.0)\n",
            "Requirement already satisfied: scipy>=0.14.0 in /usr/local/lib/python3.7/dist-packages (from bayesian-optimization) (1.4.1)\n",
            "Requirement already satisfied: scikit-learn>=0.18.0 in /usr/local/lib/python3.7/dist-packages (from bayesian-optimization) (1.0.2)\n",
            "Requirement already satisfied: numpy>=1.9.0 in /usr/local/lib/python3.7/dist-packages (from bayesian-optimization) (1.21.6)\n",
            "Requirement already satisfied: threadpoolctl>=2.0.0 in /usr/local/lib/python3.7/dist-packages (from scikit-learn>=0.18.0->bayesian-optimization) (3.1.0)\n",
            "Requirement already satisfied: joblib>=0.11 in /usr/local/lib/python3.7/dist-packages (from scikit-learn>=0.18.0->bayesian-optimization) (1.1.0)\n"
          ]
        }
      ],
      "source": [
        "pip install bayesian-optimization"
      ]
    },
    {
      "cell_type": "code",
      "execution_count": null,
      "metadata": {
        "id": "BVmVec9RPFfG"
      },
      "outputs": [],
      "source": [
        "pip install scikit-optimize"
      ]
    },
    {
      "cell_type": "code",
      "execution_count": null,
      "metadata": {
        "id": "opihgVGMAxdd"
      },
      "outputs": [],
      "source": [
        "from sklearn.linear_model import SGDClassifier\n",
        "from tensorflow.keras.callbacks import EarlyStopping\n",
        "from tensorflow.keras import optimizers\n",
        "from sklearn import metrics\n",
        "from sklearn.svm import LinearSVC\n",
        "from skopt import BayesSearchCV\n",
        "import numpy as np"
      ]
    },
    {
      "cell_type": "code",
      "execution_count": null,
      "metadata": {
        "id": "DKJVL-rqCQbz"
      },
      "outputs": [],
      "source": [
        "def Create_SGD_Model(learning_rate,alpha,l1_ratio):\n",
        "  model = SGDClassifier(loss='perceptron',learning_rate='constant',eta0=learning_rate,alpha=alpha,l1_ratio=l1_ratio)\n",
        "  model.fit(np.array(train_inputs),np.array(train_target))\n",
        "  validation_label  =  validation_target.astype(int).tolist()\n",
        "  validation_label = np.array(validation_label).reshape(-1,1)\n",
        "  validation_predict = model.predict(np.array(validation_input)).astype(int).tolist()\n",
        "  validation_predict = np.array(validation_predict).reshape(-1,1)\n",
        "  score = metrics.accuracy_score(validation_label,validation_predict)\n",
        "  return score "
      ]
    },
    {
      "cell_type": "code",
      "execution_count": null,
      "metadata": {
        "id": "40-O6xC2UA4p"
      },
      "outputs": [],
      "source": [
        "score , model = Create_SGD_Model(alpha=0.555,l1_ratio=0.122,learning_rate=2.958 )"
      ]
    },
    {
      "cell_type": "code",
      "execution_count": null,
      "metadata": {
        "colab": {
          "base_uri": "https://localhost:8080/"
        },
        "id": "gHBapqxYUpe3",
        "outputId": "c213c395-1b27-4f0b-e151-039cde2f189e"
      },
      "outputs": [
        {
          "data": {
            "text/plain": [
              "0.31197577664926207"
            ]
          },
          "execution_count": 40,
          "metadata": {},
          "output_type": "execute_result"
        }
      ],
      "source": [
        "score"
      ]
    },
    {
      "cell_type": "markdown",
      "metadata": {
        "id": "gWZwBtwwJFgd"
      },
      "source": [
        "{'target': 0.690052865312662, 'params': {'alpha': 1.865847662825355, 'l1_ratio': 0.878784603509513, 'learning_rate': 2.119798135682911}}"
      ]
    },
    {
      "cell_type": "code",
      "execution_count": null,
      "metadata": {
        "id": "L2hE-uKlJe4z"
      },
      "outputs": [],
      "source": [
        "def Create_linearSVC_Model(C):\n",
        "  model = LinearSVC(C=C,dual=True)\n",
        "  model.fit(np.array(train_inputs),np.array(train_target))\n",
        "  validation_label  =  validation_target.astype(int).tolist()\n",
        "  validation_label = np.array(validation_label).reshape(-1,1)\n",
        "  validation_predict = model.predict(np.array(validation_input)).astype(int).tolist()\n",
        "  validation_predict = np.array(validation_predict).reshape(-1,1)\n",
        "  score = metrics.accuracy_score(validation_label,validation_predict)\n",
        "  return score , model\n",
        "#| 8 | 0.6908 | 95.65   "
      ]
    },
    {
      "cell_type": "code",
      "execution_count": null,
      "metadata": {
        "colab": {
          "base_uri": "https://localhost:8080/"
        },
        "id": "jP6ECiVWVNYO",
        "outputId": "f0c8dfbb-4f3a-4c28-9e0a-93ab974b2af6"
      },
      "outputs": [
        {
          "name": "stderr",
          "output_type": "stream",
          "text": [
            "/usr/local/lib/python3.7/dist-packages/sklearn/svm/_base.py:1208: ConvergenceWarning: Liblinear failed to converge, increase the number of iterations.\n",
            "  ConvergenceWarning,\n"
          ]
        }
      ],
      "source": [
        "score_ , model_ = Create_linearSVC_Model(95.65)"
      ]
    },
    {
      "cell_type": "code",
      "execution_count": null,
      "metadata": {
        "colab": {
          "base_uri": "https://localhost:8080/"
        },
        "id": "qRV3mXAoI1yT",
        "outputId": "935e8f77-48c8-47cb-acc8-b1228ff5da3d"
      },
      "outputs": [
        {
          "data": {
            "text/plain": [
              "0.6899029635457645"
            ]
          },
          "execution_count": 31,
          "metadata": {},
          "output_type": "execute_result"
        }
      ],
      "source": [
        "score_"
      ]
    },
    {
      "cell_type": "code",
      "execution_count": null,
      "metadata": {
        "id": "Z9lJCWkVQq5O"
      },
      "outputs": [],
      "source": [
        "from bayes_opt import BayesianOptimization\n",
        "pbounds = {'learning_rate' : (0.00001,10.0),\n",
        "           'alpha':(0.0,1.0) ,\n",
        "           'l1_ratio':(0.0,1.0)}\n",
        "#|  2        |  0.688    |  0.8989   |  0.3954   |  5.302    |           \n",
        "optimizer = BayesianOptimization(f=Create_SGD_Model,pbounds=pbounds,verbose=100)\n",
        "optimizer.maximize(init_points=100, n_iter=100)\n",
        "print(optimizer.max)"
      ]
    },
    {
      "cell_type": "code",
      "execution_count": null,
      "metadata": {
        "id": "do_6WMJxTV1f"
      },
      "outputs": [],
      "source": [
        "import pickle\n",
        "filename = '/content/drive/MyDrive/MusicRecommendation/MusicRemmlinearSVC.sav'\n",
        "pickle.dump(model_, open(filename, 'wb'))"
      ]
    },
    {
      "cell_type": "code",
      "execution_count": null,
      "metadata": {
        "colab": {
          "base_uri": "https://localhost:8080/",
          "height": 122
        },
        "id": "x59YF3NYDNOO",
        "outputId": "10182b3b-5920-43be-aaf0-268b7495115b"
      },
      "outputs": [
        {
          "name": "stdout",
          "output_type": "stream",
          "text": [
            "[jovian] Detected Colab notebook...\u001b[0m\n",
            "[jovian] Please enter your API key ( from https://jovian.ai/ ):\u001b[0m\n",
            "API KEY: ··········\n",
            "[jovian] Uploading colab notebook to Jovian...\u001b[0m\n",
            "Committed successfully! https://jovian.ai/ahmedalshoki/musicrecommendationjovian\n"
          ]
        },
        {
          "data": {
            "application/vnd.google.colaboratory.intrinsic+json": {
              "type": "string"
            },
            "text/plain": [
              "'https://jovian.ai/ahmedalshoki/musicrecommendationjovian'"
            ]
          },
          "execution_count": 2,
          "metadata": {},
          "output_type": "execute_result"
        }
      ],
      "source": [
        "jovian.commit()"
      ]
    }
  ],
  "metadata": {
    "colab": {
      "collapsed_sections": [],
      "name": "MusicRecommendation.ipynb",
      "provenance": [],
      "include_colab_link": true
    },
    "kernelspec": {
      "display_name": "Python 3",
      "name": "python3"
    },
    "language_info": {
      "name": "python"
    }
  },
  "nbformat": 4,
  "nbformat_minor": 0
}